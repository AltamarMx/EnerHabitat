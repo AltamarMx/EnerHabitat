{
 "cells": [
  {
   "cell_type": "code",
   "execution_count": null,
   "id": "cc589562-b4e5-4c18-aa60-a5ce144dc8b7",
   "metadata": {},
   "outputs": [],
   "source": [
    "import enerhabitat as eh"
   ]
  },
  {
   "cell_type": "code",
   "execution_count": null,
   "id": "2ffbf36c-aa16-4809-a76f-b8cf3203a535",
   "metadata": {},
   "outputs": [],
   "source": [
    "dia = eh.calculate_Tsa(\n",
    "    epw=fpath_epw, #Ta, lat, lon, Ig, Id, Ib\n",
    "    ho = 13,\n",
    "    solar_absortance = 0.3,\n",
    "    inclination=90,\n",
    "    azimuth = 270,\n",
    "    month=\"marzo\"\n",
    ")"
   ]
  }
 ],
 "metadata": {
  "kernelspec": {
   "display_name": "Python 3 (ipykernel)",
   "language": "python",
   "name": "python3"
  },
  "language_info": {
   "codemirror_mode": {
    "name": "ipython",
    "version": 3
   },
   "file_extension": ".py",
   "mimetype": "text/x-python",
   "name": "python",
   "nbconvert_exporter": "python",
   "pygments_lexer": "ipython3",
   "version": "3.12.7"
  }
 },
 "nbformat": 4,
 "nbformat_minor": 5
}
