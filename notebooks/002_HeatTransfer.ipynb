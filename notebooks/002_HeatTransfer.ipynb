{
 "cells": [
  {
   "cell_type": "code",
   "execution_count": 1,
   "id": "89e68474-739b-427f-8618-22b895a3278f",
   "metadata": {},
   "outputs": [],
   "source": [
    "import matplotlib.pyplot as plt\n",
    "import pandas as pd\n",
    "from ehtools.configure import *\n",
    "from ehtools.diatipico import calculate_dt\n",
    "import numpy as np\n",
    "from ehtools.calculations import *"
   ]
  },
  {
   "cell_type": "code",
   "execution_count": null,
   "id": "2afe91c9-1dee-4d92-9cdd-30eca5307457",
   "metadata": {},
   "outputs": [],
   "source": [
    "\n"
   ]
  },
  {
   "cell_type": "code",
   "execution_count": 2,
   "id": "9809d234-601f-4517-b46b-41602055d0cc",
   "metadata": {},
   "outputs": [],
   "source": [
    "materiales = get_list_materials(\"materiales.ini\")\n",
    "propiedades = read_materials(\"materiales.ini\")\n",
    "eh = read_configuration(\"eh.ini\")\n"
   ]
  },
  {
   "cell_type": "code",
   "execution_count": 9,
   "id": "c6a98007-622a-40e1-bbad-eafa7cbca6d4",
   "metadata": {},
   "outputs": [
    {
     "data": {
      "text/plain": [
       "1480.0"
      ]
     },
     "execution_count": 9,
     "metadata": {},
     "output_type": "execute_result"
    }
   ],
   "source": [
    "propiedades[\"adobe\"].c"
   ]
  },
  {
   "cell_type": "code",
   "execution_count": 14,
   "id": "b401dba4-e36c-4e56-bf8f-81fec62caddf",
   "metadata": {},
   "outputs": [
    {
     "data": {
      "text/plain": [
       "200"
      ]
     },
     "execution_count": 14,
     "metadata": {},
     "output_type": "execute_result"
    }
   ],
   "source": [
    "eh.Nx"
   ]
  },
  {
   "cell_type": "code",
   "execution_count": 15,
   "id": "0a1dec69-fe46-471d-b389-eac9350136e0",
   "metadata": {},
   "outputs": [
    {
     "data": {
      "text/plain": [
       "0.101"
      ]
     },
     "execution_count": 15,
     "metadata": {},
     "output_type": "execute_result"
    }
   ],
   "source": [
    "# Lista de tuplas con los valores de L y el material\n",
    "sc = [\n",
    "    (0.001,\"acero\"),\n",
    "    # (0.1, \"adobe\")\n",
    "#     (0.02, \"tabique\"),\n",
    "#     (0.1, \"concreto\"),\n",
    "]\n",
    "\n",
    "# Actualizar el diccionario\n",
    "cs = set_construction(propiedades,sc)\n",
    "Ltotal  = get_total_L(cs)\n",
    "Ltotal"
   ]
  },
  {
   "cell_type": "code",
   "execution_count": 23,
   "id": "8d4b795b-b1a3-40e9-a824-6f33f4f8e026",
   "metadata": {},
   "outputs": [
    {
     "data": {
      "text/plain": [
       "25000.0"
      ]
     },
     "execution_count": 23,
     "metadata": {},
     "output_type": "execute_result"
    }
   ],
   "source": [
    "cs[\"L1\"][\"material\"].rho"
   ]
  },
  {
   "cell_type": "code",
   "execution_count": 4,
   "id": "4cfe3f94-a92c-46ea-b57d-26e3e4b35f0f",
   "metadata": {},
   "outputs": [
    {
     "data": {
      "text/plain": [
       "int"
      ]
     },
     "execution_count": 4,
     "metadata": {},
     "output_type": "execute_result"
    }
   ],
   "source": [
    "type(eh.dt)"
   ]
  },
  {
   "cell_type": "code",
   "execution_count": 24,
   "id": "eefcd56e-304e-47aa-87fb-018732efc911",
   "metadata": {},
   "outputs": [],
   "source": [
    "k, rhoc, dx = set_k_rhoc(cs, eh.Nx)"
   ]
  },
  {
   "cell_type": "code",
   "execution_count": 28,
   "id": "2769ddf1-8ba2-40b7-aba0-61948afabe67",
   "metadata": {},
   "outputs": [
    {
     "data": {
      "text/plain": [
       "0.000505"
      ]
     },
     "execution_count": 28,
     "metadata": {},
     "output_type": "execute_result"
    }
   ],
   "source": [
    "dx"
   ]
  },
  {
   "cell_type": "code",
   "execution_count": 29,
   "id": "34906607-c3a0-4044-bfd4-357da21ba120",
   "metadata": {},
   "outputs": [],
   "source": [
    "f = \"../data/dia.parquet\"\n",
    "dia = pd.read_parquet(f)\n",
    "dia = calculate_dt(dia)"
   ]
  },
  {
   "cell_type": "code",
   "execution_count": 30,
   "id": "7128c8b8-682a-4e44-b7d6-cd88c4d4f2c0",
   "metadata": {},
   "outputs": [
    {
     "data": {
      "text/html": [
       "<div>\n",
       "<style scoped>\n",
       "    .dataframe tbody tr th:only-of-type {\n",
       "        vertical-align: middle;\n",
       "    }\n",
       "\n",
       "    .dataframe tbody tr th {\n",
       "        vertical-align: top;\n",
       "    }\n",
       "\n",
       "    .dataframe thead th {\n",
       "        text-align: right;\n",
       "    }\n",
       "</style>\n",
       "<table border=\"1\" class=\"dataframe\">\n",
       "  <thead>\n",
       "    <tr style=\"text-align: right;\">\n",
       "      <th></th>\n",
       "      <th>zenith</th>\n",
       "      <th>elevation</th>\n",
       "      <th>azimuth</th>\n",
       "      <th>equation_of_time</th>\n",
       "      <th>Ta</th>\n",
       "      <th>Ig</th>\n",
       "      <th>Ib</th>\n",
       "      <th>Id</th>\n",
       "      <th>Tn</th>\n",
       "      <th>Is</th>\n",
       "      <th>Tsa</th>\n",
       "      <th>DeltaTn</th>\n",
       "      <th>dt</th>\n",
       "    </tr>\n",
       "  </thead>\n",
       "  <tbody>\n",
       "    <tr>\n",
       "      <th>2024-02-15 00:00:00-06:00</th>\n",
       "      <td>166.292835</td>\n",
       "      <td>-76.292835</td>\n",
       "      <td>294.129023</td>\n",
       "      <td>-14.123533</td>\n",
       "      <td>19.599009</td>\n",
       "      <td>0.0</td>\n",
       "      <td>0.0</td>\n",
       "      <td>0.0</td>\n",
       "      <td>25.012273</td>\n",
       "      <td>0.0</td>\n",
       "      <td>19.599009</td>\n",
       "      <td>1.5</td>\n",
       "      <td>1.0</td>\n",
       "    </tr>\n",
       "    <tr>\n",
       "      <th>2024-02-15 00:00:01-06:00</th>\n",
       "      <td>166.296431</td>\n",
       "      <td>-76.296431</td>\n",
       "      <td>294.136995</td>\n",
       "      <td>-14.123532</td>\n",
       "      <td>19.598670</td>\n",
       "      <td>0.0</td>\n",
       "      <td>0.0</td>\n",
       "      <td>0.0</td>\n",
       "      <td>25.012273</td>\n",
       "      <td>0.0</td>\n",
       "      <td>19.598670</td>\n",
       "      <td>1.5</td>\n",
       "      <td>1.0</td>\n",
       "    </tr>\n",
       "    <tr>\n",
       "      <th>2024-02-15 00:00:02-06:00</th>\n",
       "      <td>166.300028</td>\n",
       "      <td>-76.300028</td>\n",
       "      <td>294.144970</td>\n",
       "      <td>-14.123532</td>\n",
       "      <td>19.598332</td>\n",
       "      <td>0.0</td>\n",
       "      <td>0.0</td>\n",
       "      <td>0.0</td>\n",
       "      <td>25.012273</td>\n",
       "      <td>0.0</td>\n",
       "      <td>19.598332</td>\n",
       "      <td>1.5</td>\n",
       "      <td>1.0</td>\n",
       "    </tr>\n",
       "    <tr>\n",
       "      <th>2024-02-15 00:00:03-06:00</th>\n",
       "      <td>166.303624</td>\n",
       "      <td>-76.303624</td>\n",
       "      <td>294.152950</td>\n",
       "      <td>-14.123531</td>\n",
       "      <td>19.597993</td>\n",
       "      <td>0.0</td>\n",
       "      <td>0.0</td>\n",
       "      <td>0.0</td>\n",
       "      <td>25.012273</td>\n",
       "      <td>0.0</td>\n",
       "      <td>19.597993</td>\n",
       "      <td>1.5</td>\n",
       "      <td>1.0</td>\n",
       "    </tr>\n",
       "    <tr>\n",
       "      <th>2024-02-15 00:00:04-06:00</th>\n",
       "      <td>166.307220</td>\n",
       "      <td>-76.307220</td>\n",
       "      <td>294.160933</td>\n",
       "      <td>-14.123531</td>\n",
       "      <td>19.597655</td>\n",
       "      <td>0.0</td>\n",
       "      <td>0.0</td>\n",
       "      <td>0.0</td>\n",
       "      <td>25.012273</td>\n",
       "      <td>0.0</td>\n",
       "      <td>19.597655</td>\n",
       "      <td>1.5</td>\n",
       "      <td>1.0</td>\n",
       "    </tr>\n",
       "    <tr>\n",
       "      <th>...</th>\n",
       "      <td>...</td>\n",
       "      <td>...</td>\n",
       "      <td>...</td>\n",
       "      <td>...</td>\n",
       "      <td>...</td>\n",
       "      <td>...</td>\n",
       "      <td>...</td>\n",
       "      <td>...</td>\n",
       "      <td>...</td>\n",
       "      <td>...</td>\n",
       "      <td>...</td>\n",
       "      <td>...</td>\n",
       "      <td>...</td>\n",
       "    </tr>\n",
       "    <tr>\n",
       "      <th>2024-02-15 23:58:56-06:00</th>\n",
       "      <td>165.911970</td>\n",
       "      <td>-75.911970</td>\n",
       "      <td>294.904119</td>\n",
       "      <td>-14.076002</td>\n",
       "      <td>19.620684</td>\n",
       "      <td>0.0</td>\n",
       "      <td>0.0</td>\n",
       "      <td>0.0</td>\n",
       "      <td>25.012273</td>\n",
       "      <td>0.0</td>\n",
       "      <td>19.620684</td>\n",
       "      <td>1.5</td>\n",
       "      <td>1.0</td>\n",
       "    </tr>\n",
       "    <tr>\n",
       "      <th>2024-02-15 23:58:57-06:00</th>\n",
       "      <td>165.915545</td>\n",
       "      <td>-75.915545</td>\n",
       "      <td>294.912098</td>\n",
       "      <td>-14.076002</td>\n",
       "      <td>19.620345</td>\n",
       "      <td>0.0</td>\n",
       "      <td>0.0</td>\n",
       "      <td>0.0</td>\n",
       "      <td>25.012273</td>\n",
       "      <td>0.0</td>\n",
       "      <td>19.620345</td>\n",
       "      <td>1.5</td>\n",
       "      <td>1.0</td>\n",
       "    </tr>\n",
       "    <tr>\n",
       "      <th>2024-02-15 23:58:58-06:00</th>\n",
       "      <td>165.919119</td>\n",
       "      <td>-75.919119</td>\n",
       "      <td>294.920081</td>\n",
       "      <td>-14.076001</td>\n",
       "      <td>19.620007</td>\n",
       "      <td>0.0</td>\n",
       "      <td>0.0</td>\n",
       "      <td>0.0</td>\n",
       "      <td>25.012273</td>\n",
       "      <td>0.0</td>\n",
       "      <td>19.620007</td>\n",
       "      <td>1.5</td>\n",
       "      <td>1.0</td>\n",
       "    </tr>\n",
       "    <tr>\n",
       "      <th>2024-02-15 23:58:59-06:00</th>\n",
       "      <td>165.922693</td>\n",
       "      <td>-75.922693</td>\n",
       "      <td>294.928067</td>\n",
       "      <td>-14.076001</td>\n",
       "      <td>19.619668</td>\n",
       "      <td>0.0</td>\n",
       "      <td>0.0</td>\n",
       "      <td>0.0</td>\n",
       "      <td>25.012273</td>\n",
       "      <td>0.0</td>\n",
       "      <td>19.619668</td>\n",
       "      <td>1.5</td>\n",
       "      <td>1.0</td>\n",
       "    </tr>\n",
       "    <tr>\n",
       "      <th>2024-02-15 23:59:00-06:00</th>\n",
       "      <td>165.926267</td>\n",
       "      <td>-75.926267</td>\n",
       "      <td>294.936057</td>\n",
       "      <td>-14.076000</td>\n",
       "      <td>19.619329</td>\n",
       "      <td>0.0</td>\n",
       "      <td>0.0</td>\n",
       "      <td>0.0</td>\n",
       "      <td>25.012273</td>\n",
       "      <td>0.0</td>\n",
       "      <td>19.619329</td>\n",
       "      <td>1.5</td>\n",
       "      <td>1.0</td>\n",
       "    </tr>\n",
       "  </tbody>\n",
       "</table>\n",
       "<p>86341 rows × 13 columns</p>\n",
       "</div>"
      ],
      "text/plain": [
       "                               zenith  elevation     azimuth  \\\n",
       "2024-02-15 00:00:00-06:00  166.292835 -76.292835  294.129023   \n",
       "2024-02-15 00:00:01-06:00  166.296431 -76.296431  294.136995   \n",
       "2024-02-15 00:00:02-06:00  166.300028 -76.300028  294.144970   \n",
       "2024-02-15 00:00:03-06:00  166.303624 -76.303624  294.152950   \n",
       "2024-02-15 00:00:04-06:00  166.307220 -76.307220  294.160933   \n",
       "...                               ...        ...         ...   \n",
       "2024-02-15 23:58:56-06:00  165.911970 -75.911970  294.904119   \n",
       "2024-02-15 23:58:57-06:00  165.915545 -75.915545  294.912098   \n",
       "2024-02-15 23:58:58-06:00  165.919119 -75.919119  294.920081   \n",
       "2024-02-15 23:58:59-06:00  165.922693 -75.922693  294.928067   \n",
       "2024-02-15 23:59:00-06:00  165.926267 -75.926267  294.936057   \n",
       "\n",
       "                           equation_of_time         Ta   Ig   Ib   Id  \\\n",
       "2024-02-15 00:00:00-06:00        -14.123533  19.599009  0.0  0.0  0.0   \n",
       "2024-02-15 00:00:01-06:00        -14.123532  19.598670  0.0  0.0  0.0   \n",
       "2024-02-15 00:00:02-06:00        -14.123532  19.598332  0.0  0.0  0.0   \n",
       "2024-02-15 00:00:03-06:00        -14.123531  19.597993  0.0  0.0  0.0   \n",
       "2024-02-15 00:00:04-06:00        -14.123531  19.597655  0.0  0.0  0.0   \n",
       "...                                     ...        ...  ...  ...  ...   \n",
       "2024-02-15 23:58:56-06:00        -14.076002  19.620684  0.0  0.0  0.0   \n",
       "2024-02-15 23:58:57-06:00        -14.076002  19.620345  0.0  0.0  0.0   \n",
       "2024-02-15 23:58:58-06:00        -14.076001  19.620007  0.0  0.0  0.0   \n",
       "2024-02-15 23:58:59-06:00        -14.076001  19.619668  0.0  0.0  0.0   \n",
       "2024-02-15 23:59:00-06:00        -14.076000  19.619329  0.0  0.0  0.0   \n",
       "\n",
       "                                  Tn   Is        Tsa  DeltaTn   dt  \n",
       "2024-02-15 00:00:00-06:00  25.012273  0.0  19.599009      1.5  1.0  \n",
       "2024-02-15 00:00:01-06:00  25.012273  0.0  19.598670      1.5  1.0  \n",
       "2024-02-15 00:00:02-06:00  25.012273  0.0  19.598332      1.5  1.0  \n",
       "2024-02-15 00:00:03-06:00  25.012273  0.0  19.597993      1.5  1.0  \n",
       "2024-02-15 00:00:04-06:00  25.012273  0.0  19.597655      1.5  1.0  \n",
       "...                              ...  ...        ...      ...  ...  \n",
       "2024-02-15 23:58:56-06:00  25.012273  0.0  19.620684      1.5  1.0  \n",
       "2024-02-15 23:58:57-06:00  25.012273  0.0  19.620345      1.5  1.0  \n",
       "2024-02-15 23:58:58-06:00  25.012273  0.0  19.620007      1.5  1.0  \n",
       "2024-02-15 23:58:59-06:00  25.012273  0.0  19.619668      1.5  1.0  \n",
       "2024-02-15 23:59:00-06:00  25.012273  0.0  19.619329      1.5  1.0  \n",
       "\n",
       "[86341 rows x 13 columns]"
      ]
     },
     "execution_count": 30,
     "metadata": {},
     "output_type": "execute_result"
    }
   ],
   "source": [
    "dia"
   ]
  },
  {
   "cell_type": "code",
   "execution_count": 35,
   "id": "0e665373-18c8-4acf-bc51-321efd586ec4",
   "metadata": {},
   "outputs": [],
   "source": [
    "T = np.full(eh.Nx, dia.Tn.mean())\n",
    "dia['Ti'] = dia.Tn.mean()\n",
    "dt  = eh.dt\n",
    "nx = eh.Nx \n",
    "ho = eh.ho\n",
    "hi = eh.hi\n",
    "La = eh.La\n",
    "\n",
    "dia = dia.iloc[::dt]"
   ]
  },
  {
   "cell_type": "code",
   "execution_count": 36,
   "id": "91ea9164-5e72-44a7-a96c-fd1a7bcaa715",
   "metadata": {},
   "outputs": [
    {
     "name": "stdout",
     "output_type": "stream",
     "text": [
      "0.06811763560804608 0.033372491822724254 0.7140386368180092\n",
      "0.1298245178083946 0.06360419912223148 0.10744554352023133\n",
      "0.18570216547312285 0.09098002218359362 0.09867003252149877\n",
      "0.23626967633217139 0.11575427965121161 0.09041787473345504\n",
      "0.28199943762420737 0.13815840556002895 0.08265850112690921\n",
      "0.323327000785741 0.158405787186682 0.07538595900703828\n",
      "0.36064486611843627 0.1766887200063554 0.06859037647298459\n",
      "0.39431728954185985 0.19318566188225306 0.06225870641220617\n",
      "0.4246734512659576 0.20805788623155336 0.05637541614412866\n",
      "0.45201376961400885 0.22145257532133794 0.05092308184784196\n",
      "0.47661490041811533 0.23350526959443213 0.045882898261231035\n",
      "0.49872798973370663 0.24433901163160543 0.041235113257620776\n",
      "0.5185840855467988 0.25406699747900874 0.03695939599558457\n",
      "0.5363917807166945 0.2627914218682885 0.03303514650459345\n",
      "0.5523430237214845 0.270606325042596 0.029441753791949896\n",
      "0.5666119647205108 0.2775970274144307 0.026158808846287514\n",
      "0.5793574140952044 0.28384133406478756 0.02316627826034857\n",
      "0.5907238539807463 0.28941003031720025 0.020444643595889166\n",
      "0.6008489284021976 0.2943705513381977 0.017975011069651464\n",
      "0.6098471925875542 0.2987790205292371 0.01573919563961713\n",
      "0.6178325518221771 0.30269124286901977 0.013719783119460392\n",
      "0.6249030850201456 0.3061552696107764 0.01190017353630017\n",
      "0.6311514847853438 0.3092165131229419 0.01026460857875696\n",
      "0.6366598744730577 0.311915207641163 0.008798185641354728\n",
      "0.6415043589902948 0.31428863881641816 0.0074868606732042585\n",
      "0.645752466818285 0.31636989049942443 0.0063174417635376125\n",
      "0.649466854964392 0.31818965988698283 0.0052775751535479995\n",
      "0.6527041709918407 0.3197757000025743 0.004355725144123798\n",
      "0.6555155674386716 0.32115307172275803 0.003546821451607638\n",
      "0.6579471780296802 0.3223443770850201 0.002889087664537584\n",
      "0.6600405579140965 0.3233699749709557 0.0023662700371852984\n",
      "0.6618331090404731 0.32424818950780543 0.0019549055194523213\n",
      "0.6633621276621763 0.32499729304015934 0.0016360865906444922\n",
      "0.6646560521038074 0.3256312181971631 0.0013940341208622086\n",
      "0.6657414496080477 0.32616298091927354 0.0012154111725129547\n",
      "0.6666460996804782 0.32660619106412253 0.0010889352872787761\n",
      "0.6673900456117802 0.32697066832889116 0.0010049784908125225\n",
      "0.6679951962173961 0.3272671463768616 0.0009553486172080028\n",
      "0.6684788292911125 0.32750409002080527 0.0009332028489652977\n",
      "0.6688563714002606 0.3276890571124814 0.0009326029097346832\n",
      "0.6691440059373749 0.32782997629078375 0.0009486567386979772\n",
      "0.6693514254093199 0.32793159615133194 0.0009771842726301295\n",
      "0.6694929385286275 0.32800092688154214 0.0010147569900309605\n",
      "0.6695782540558721 0.3280427250401234 0.0010584605964877093\n",
      "0.6696140567256176 0.3280602656416525 0.0010970866762778897\n",
      "0.669608596474541 0.32805759053141453 0.0011215389181164959\n",
      "0.6695722739774295 0.3280397952537744 0.0011338357356661178\n",
      "0.6695080745900965 0.32800834240739085 0.0011357774679545151\n",
      "0.6694210695837421 0.3279657165317688 0.001128965685895338\n",
      "0.6693160126843514 0.32791424659326396 0.0011148211615720704\n",
      "0.6691977064056678 0.3278562854605455 0.001094600548953455\n",
      "0.6690695075741763 0.32779347772481826 0.001069411834183338\n",
      "0.6689338258493299 0.32772700393704646 0.0010402286114582183\n",
      "0.6687940247978768 0.32765851199065427 0.0010079032467818294\n",
      "0.6686515144986798 0.32758869271768404 0.000973178987465797\n",
      "0.6685080487904524 0.3275184053665169 0.0009367010812657028\n",
      "0.6683651691439402 0.3274484051412844 0.0008990269629954461\n",
      "0.6682241467649881 0.327379314836749 0.000860635568667032\n",
      "0.6680863907156299 0.32731182478678317 0.0008219358352153705\n",
      "0.6679525277163357 0.32724624203703806 0.0007832744403665082\n",
      "0.6678229835791093 0.32718277520320455 0.0007449428374312462\n",
      "0.6676982610471625 0.3271216705914494 0.0007071836365744665\n",
      "0.6675787303944409 0.32706310960801377 0.0006701963802375488\n",
      "0.6674646486177666 0.32700721816191175 0.0006341427614255224\n",
      "0.6673561764167454 0.32695407498380147 0.0005991513269881211\n",
      "0.6672533931792322 0.32690371896773 0.0005653217095238005\n",
      "0.667156310171803 0.32685615563346815 0.0005327284250473774\n",
      "0.6670648821174898 0.3268113627987243 0.0005014242747294162\n",
      "0.6669790173271518 0.326769295542751 0.00047144338417938415\n"
     ]
    }
   ],
   "source": [
    "C = 1\n",
    "while C > 5e-4: \n",
    "    Told = T.copy()\n",
    "    for tiempo, datos in dia.iterrows():\n",
    "        a,b,c,d = calculate_coefficients(dt, dx, k, nx, rhoc, T, datos[\"Tsa\"], ho, datos[\"Ti\"], hi)\n",
    "        T, Ti = solve_PQ(a, b, c, d, T, nx, datos['Ti'], hi, La, dt)\n",
    "        dia.loc[tiempo,\"Ti\"] = Ti\n",
    "    Tnew = T.copy()\n",
    "    C = abs(Told - Tnew).mean()\n",
    "    FD   = (dia.Ti.max() - dia.Ti.min())/(dia.Ta.max()-dia.Ta.min())\n",
    "    FDsa = (dia.Ti.max() - dia.Ti.min())/(dia.Tsa.max()-dia.Tsa.min())\n",
    "    print(FD,FDsa,C)"
   ]
  },
  {
   "cell_type": "code",
   "execution_count": 37,
   "id": "0e0f9671-fbf5-495c-9433-69c8af2d568e",
   "metadata": {
    "scrolled": true
   },
   "outputs": [
    {
     "data": {
      "text/plain": [
       "<matplotlib.legend.Legend at 0x1b72287ea20>"
      ]
     },
     "execution_count": 37,
     "metadata": {},
     "output_type": "execute_result"
    },
    {
     "data": {
      "image/png": "[encoded data removed]",
      "text/plain": [
       "<Figure size 1200x300 with 1 Axes>"
      ]
     },
     "metadata": {},
     "output_type": "display_data"
    }
   ],
   "source": [
    "fig, ax = plt.subplots(figsize=(12,3))\n",
    "\n",
    "ax.plot(dia.Ti,label=\"resultado\")\n",
    "ax.plot(dia.Tsa,label=\"Tsa\")\n",
    "ax.plot(dia.Ta,label=\"Ta\")\n",
    "\n",
    "ax.legend()"
   ]
  },
  {
   "cell_type": "code",
   "execution_count": null,
   "id": "7826f529-5839-4309-9a5b-9dff9473db0b",
   "metadata": {},
   "outputs": [],
   "source": []
  }
 ],
 "metadata": {
  "kernelspec": {
   "display_name": "Python 3 (ipykernel)",
   "language": "python",
   "name": "python3"
  },
  "language_info": {
   "codemirror_mode": {
    "name": "ipython",
    "version": 3
   },
   "file_extension": ".py",
   "mimetype": "text/x-python",
   "name": "python",
   "nbconvert_exporter": "python",
   "pygments_lexer": "ipython3",
   "version": "3.12.7"
  }
 },
 "nbformat": 4,
 "nbformat_minor": 5
}
